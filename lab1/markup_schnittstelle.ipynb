{
 "cells": [
  {
   "cell_type": "markdown",
   "metadata": {},
   "source": [
    "# Aufgabe 1: Markup - client part\n",
    "Dieses File dient nur zur kurzen Beschreibung des Codes!!!\n",
    "Die Ausführung erfolgt über auskunft.ipynb und schnittstelle.ipynb und dem script auskunft_schnittstelle.py"
   ]
  },
  {
   "cell_type": "code",
   "execution_count": 1,
   "metadata": {},
   "outputs": [],
   "source": [
    "import logging\n",
    "import socket\n",
    "import constCS\n",
    "from context import lab_logging\n",
    "\n",
    "lab_logging.setup(stream_level=logging.INFO)  # init loging channels for the lab\n"
   ]
  },
  {
   "cell_type": "markdown",
   "metadata": {},
   "source": [
    "Bereitstellen der Packages für Socket und Log."
   ]
  },
  {
   "cell_type": "code",
   "execution_count": 2,
   "metadata": {},
   "outputs": [],
   "source": [
    "class Schnittstelle:\n",
    "    logger = logging.getLogger(\"vs2lab.a1_layers.auskunft_schnittstelle.Schnittstelle\")"
   ]
  },
  {
   "cell_type": "markdown",
   "metadata": {},
   "source": [
    "Klasse anlegen und Log erstellen."
   ]
  },
  {
   "cell_type": "code",
   "execution_count": 3,
   "metadata": {},
   "outputs": [],
   "source": [
    "    def __init__(self):\n",
    "        self.sock = socket.socket(socket.AF_INET, socket.SOCK_STREAM)\n",
    "        self.sock.connect((constCS.HOST, constCS.PORT))\n",
    "        self.logger.info(\"\\nClient connected to socket \" + str(self.sock) + \"\\n\")"
   ]
  },
  {
   "cell_type": "markdown",
   "metadata": {},
   "source": [
    "Socket erstellen und an entsprechenden Port binden. Port und Host findet sich in der externen Datei constCS.py wieder.\n",
    "Log-Eintrag für die Bindung eintragen."
   ]
  },
  {
   "cell_type": "code",
   "execution_count": 4,
   "metadata": {},
   "outputs": [],
   "source": [
    "    def call(self):\n",
    "        while True:\n",
    "            msg_in = input(\"choose Operation: \")\n",
    "            msg_in = msg_in.split(\" \")\n",
    "            \n",
    "            if msg_in[0] == \"getall\" and len(msg_in) == 1:\n",
    "                self.sock.send(msg_in[0].encode('ascii'))\n",
    "                self.logger.info(\"\\nClient sends \" + msg_in[0] + \" over Socket \" + str(self.sock) + \"\\n\")\n",
    "                break;\n",
    "            elif msg_in[0] == \"get\" and len(msg_in) == 2:\n",
    "                self.sock.send(msg_in[1].encode('ascii'))\n",
    "                self.logger.info(\"\\nClient sends \" + msg_in[1] + \" over Socket \" + str(self.sock) + \"\\n\")\n",
    "                break;\n",
    "            else:\n",
    "                print(\"Wrong input, try again!\")\n",
    "\n",
    "        data = self.sock.recv(1024)  # receive the response\n",
    "        msg_out = data.decode('ascii')\n",
    "        print(data.decode('ascii'))  # print the result\n",
    "        self.logger.info(\"\\nAnswer is \" + str(msg_out) + \"\\n\")\n",
    "        \n",
    "      #  self.sock.close()  # close the connection\n",
    "      #  self.logger.info(\"\\nClient down.\\n\")\n",
    "        return msg_out"
   ]
  },
  {
   "cell_type": "markdown",
   "metadata": {},
   "source": [
    "1)\n",
    "Über input() wird der Nutzer zur Eingabe aufgefordert. Die Eingabe wird, sofern sie aus mehreren Wörter besteht, mit split() zerlegt\n",
    "\n",
    "2)\n",
    "if-Schleifen prüfen auf eine korrekte Eingabe. Eine korrekte Eingabe wird encodiert und über self.sock.send() and den Server geschickt. Bei falscher Eingabe wird zu einer neuen Eingabe aufgefordert. Korrekte Eingaben sind:\n",
    "- getall\n",
    "- get Name\n",
    "\n",
    "Für jede Eingabe wird ein Log-Eintrag geschrieben.\n",
    "\n",
    "3)\n",
    "Client empfängt die Antwort des Servers über self.sock.recv(). Das Ergebnis wird decodiert und ausgegeben. Anschließend gibt es einen weiteren Log-Eintrag."
   ]
  },
  {
   "cell_type": "code",
   "execution_count": 5,
   "metadata": {},
   "outputs": [],
   "source": [
    "    def close(self):\n",
    "        self.sock.close()\n",
    "        self.logger.info(\"\\nClient down.\\n\")"
   ]
  },
  {
   "cell_type": "markdown",
   "metadata": {},
   "source": [
    "Client Verbindung wird geschlossen und es wird ein letzter Log-Eintrag geschrieben."
   ]
  },
  {
   "cell_type": "markdown",
   "metadata": {},
   "source": [
    "Finished."
   ]
  }
 ],
 "metadata": {
  "kernelspec": {
   "display_name": "Python 3",
   "language": "python",
   "name": "python3"
  },
  "language_info": {
   "codemirror_mode": {
    "name": "ipython",
    "version": 3
   },
   "file_extension": ".py",
   "mimetype": "text/x-python",
   "name": "python",
   "nbconvert_exporter": "python",
   "pygments_lexer": "ipython3",
   "version": "3.6.7"
  },
  "widgets": {
   "application/vnd.jupyter.widget-state+json": {
    "state": {},
    "version_major": 2,
    "version_minor": 0
   }
  }
 },
 "nbformat": 4,
 "nbformat_minor": 2
}
