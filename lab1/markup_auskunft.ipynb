{
 "cells": [
  {
   "cell_type": "markdown",
   "metadata": {},
   "source": [
    "# Aufgabe 1: Markup - server part\n",
    "Dieses File dient nur zur kurzen Beschreibung des Codes!!!\n",
    "Die Ausführung erfolgt über auskunft.ipynb und schnittstelle.ipynb und dem script auskunft_schnittstelle.py"
   ]
  },
  {
   "cell_type": "code",
   "execution_count": 1,
   "metadata": {},
   "outputs": [],
   "source": [
    "import logging\n",
    "import socket\n",
    "import constCS\n",
    "from context import lab_logging\n",
    "\n",
    "lab_logging.setup(stream_level=logging.INFO)  # init loging channels for the lab"
   ]
  },
  {
   "cell_type": "markdown",
   "metadata": {},
   "source": [
    "Bereitstellen der Packages für Socket und Log."
   ]
  },
  {
   "cell_type": "code",
   "execution_count": 2,
   "metadata": {},
   "outputs": [],
   "source": [
    "class Auskunft:\n",
    "    _logger = logging.getLogger(\"vs2lab.lab1.auskunft_schnittstelle.Auskunft\")\n",
    "    _serving = True\n",
    "    telebook = {'Tim':1111, 'Stefan':2222, 'Lisa':3333}"
   ]
  },
  {
   "cell_type": "markdown",
   "metadata": {},
   "source": [
    "Klasse anlegen, Logger erstellen und Telefonbuch anlegen."
   ]
  },
  {
   "cell_type": "code",
   "execution_count": 3,
   "metadata": {},
   "outputs": [],
   "source": [
    "    def __init__(self):\n",
    "        self.sock = socket.socket(socket.AF_INET, socket.SOCK_STREAM)\n",
    "        self.sock.bind((constCS.HOST, constCS.PORT))\n",
    "        self.sock.setsockopt(socket.SOL_SOCKET, socket.SO_REUSEADDR, 1)  # prevents errors due to \"addresses in use\"\n",
    "        self.sock.settimeout(3)  # time out in order not to block forever\n",
    "        self._logger.info(\"\\nServer bound to socket \" + str(self.sock) + \"\\n\")\n"
   ]
  },
  {
   "cell_type": "markdown",
   "metadata": {},
   "source": [
    "Socket erstellen und an entsprechenden Port binden. Port und Host findet sich in der externen Datei constCS.py wieder.\n",
    "Log-Eintrag für die Bindung eintragen."
   ]
  },
  {
   "cell_type": "code",
   "execution_count": 4,
   "metadata": {},
   "outputs": [],
   "source": [
    "    def serve(self):\n",
    "        self.sock.listen(1)\n",
    "        while self._serving:  # as long as _serving (checked after connections or socket timeouts)\n",
    "            try:\n",
    "                (connection, address) = self.sock.accept()  # returns new socket and address of client\n",
    "                while True:  # forever\n",
    "                    data = connection.recv(1024)\n",
    "                    data = data.decode('ascii')  # receive data from client\n",
    "                    self._logger.info(\"\\nMessage \" + data + \" recieved from Client\\n\")\n",
    "                    \n",
    "                    if not data:\n",
    "                        break  # stop if client stopped\n",
    "                    elif data == \"getall\":\n",
    "                        data = str(self.telebook)\n",
    "                    elif data in self.telebook:\n",
    "                        data = str(self.telebook.get(data))\n",
    "                    else:\n",
    "                        data = \"No entry found!\"\n",
    "\n",
    "                    connection.send(data.encode('ascii'))  # return sent data plus an \"*\"\n",
    "                    self._logger.info(\"\\nServer sends \" + data + \" over Socket\" + str(self.sock) + \"\\n\")\n",
    "                    \n",
    "                connection.close()  # close the connection\n",
    "                self._logger.info(\"\\nServer socket closed!\\n\")\n",
    "            except socket.timeout:\n",
    "                pass  # ignore timeouts\n",
    "        self.sock.close()\n",
    "        self._logger.info(\"\\nServer down.\\n\")\n"
   ]
  },
  {
   "cell_type": "markdown",
   "metadata": {},
   "source": [
    "1)\n",
    "Über self-sock.listen() lauscht der Server auf dem Socket. Bei eingehender Nachricht wird diese akzeptiert und decodiert. Anschließend geschieht ein Log-Eintrag.\n",
    "\n",
    "2)\n",
    "Die Auswertung der Nachricht erfolgt über if-Schleifen\n",
    "- getall gibt das gesamte Telefonbuch zurück \n",
    "- get gibt jeweil nur die enstprechende Nummer der Person zurück oder einen nicht vorhandenen Eintrag.\n",
    "Das Ergebniss wird in data geschrieben.\n",
    "\n",
    "3)\n",
    "connectinon.send() wird das Ergebnis encodiert und an den Client zurückgeschickt. Anschließend geschieht wieder ein Log-Eintrag\n",
    "\n",
    "4)\n",
    "Server Socket schließen und letzten Log-.Eintrag anlegen"
   ]
  },
  {
   "cell_type": "markdown",
   "metadata": {},
   "source": [
    "Finished"
   ]
  }
 ],
 "metadata": {
  "kernelspec": {
   "display_name": "Python 3",
   "language": "python",
   "name": "python3"
  },
  "language_info": {
   "codemirror_mode": {
    "name": "ipython",
    "version": 3
   },
   "file_extension": ".py",
   "mimetype": "text/x-python",
   "name": "python",
   "nbconvert_exporter": "python",
   "pygments_lexer": "ipython3",
   "version": "3.6.7"
  },
  "widgets": {
   "application/vnd.jupyter.widget-state+json": {
    "state": {},
    "version_major": 2,
    "version_minor": 0
   }
  }
 },
 "nbformat": 4,
 "nbformat_minor": 2
}
