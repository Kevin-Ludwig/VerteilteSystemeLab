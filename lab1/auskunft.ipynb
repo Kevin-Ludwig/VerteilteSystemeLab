{
 "cells": [
  {
   "cell_type": "markdown",
   "metadata": {},
   "source": [
    "# Aufgabe 1: Running server and client in separate notebooks - server part\n",
    "This is the first notebook we need to run in this constelation. Note that the client notebook needs to be run now in a separate window."
   ]
  },
  {
   "cell_type": "code",
   "execution_count": null,
   "metadata": {},
   "outputs": [
    {
     "name": "stderr",
     "output_type": "stream",
     "text": [
      "2019-04-17 20:55:15,254 - vs2lab.lab1.auskunft_schnittstelle.Auskunft - INFO - \n",
      "Server bound to socket <socket.socket fd=58, family=AddressFamily.AF_INET, type=2049, proto=0, laddr=('127.0.0.1', 50029)>\n",
      "\n",
      "2019-04-17 20:55:22,062 - vs2lab.lab1.auskunft_schnittstelle.Auskunft - INFO - \n",
      "Message getall recieved from Client\n",
      "\n",
      "2019-04-17 20:55:22,063 - vs2lab.lab1.auskunft_schnittstelle.Auskunft - INFO - \n",
      "Server sends {'Tim': 1111, 'Stefan': 2222, 'Lisa': 3333} over Socket<socket.socket fd=58, family=AddressFamily.AF_INET, type=2049, proto=0, laddr=('127.0.0.1', 50029)>\n",
      "\n",
      "2019-04-17 20:55:24,562 - vs2lab.lab1.auskunft_schnittstelle.Auskunft - INFO - \n",
      "Message Lisa recieved from Client\n",
      "\n",
      "2019-04-17 20:55:24,563 - vs2lab.lab1.auskunft_schnittstelle.Auskunft - INFO - \n",
      "Server sends 3333 over Socket<socket.socket fd=58, family=AddressFamily.AF_INET, type=2049, proto=0, laddr=('127.0.0.1', 50029)>\n",
      "\n",
      "2019-04-17 20:55:27,761 - vs2lab.lab1.auskunft_schnittstelle.Auskunft - INFO - \n",
      "Message asdasdasa recieved from Client\n",
      "\n",
      "2019-04-17 20:55:27,762 - vs2lab.lab1.auskunft_schnittstelle.Auskunft - INFO - \n",
      "Server sends No entry found! over Socket<socket.socket fd=58, family=AddressFamily.AF_INET, type=2049, proto=0, laddr=('127.0.0.1', 50029)>\n",
      "\n",
      "2019-04-17 20:55:27,763 - vs2lab.lab1.auskunft_schnittstelle.Auskunft - INFO - \n",
      "Message  recieved from Client\n",
      "\n",
      "2019-04-17 20:55:27,764 - vs2lab.lab1.auskunft_schnittstelle.Auskunft - INFO - \n",
      "Server socket closed!\n",
      "\n"
     ]
    }
   ],
   "source": [
    "import auskunft_schnittstelle # import from our script\n",
    "\n",
    "auskunft = auskunft_schnittstelle.Auskunft() # Create a server instance\n",
    "\n",
    "auskunft.serve() # start server routine in the forked process"
   ]
  },
  {
   "cell_type": "markdown",
   "metadata": {},
   "source": [
    "Finished"
   ]
  }
 ],
 "metadata": {
  "kernelspec": {
   "display_name": "Python 3",
   "language": "python",
   "name": "python3"
  },
  "language_info": {
   "codemirror_mode": {
    "name": "ipython",
    "version": 3
   },
   "file_extension": ".py",
   "mimetype": "text/x-python",
   "name": "python",
   "nbconvert_exporter": "python",
   "pygments_lexer": "ipython3",
   "version": "3.6.7"
  },
  "widgets": {
   "application/vnd.jupyter.widget-state+json": {
    "state": {},
    "version_major": 2,
    "version_minor": 0
   }
  }
 },
 "nbformat": 4,
 "nbformat_minor": 2
}
