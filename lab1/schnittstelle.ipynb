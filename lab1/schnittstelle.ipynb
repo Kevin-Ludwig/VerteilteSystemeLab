{
 "cells": [
  {
   "cell_type": "markdown",
   "metadata": {},
   "source": [
    "# Aufgabe1: Running server and client in separate notebooks - client part\n",
    "\n",
    "Here we start the client. The server needs to be started first. Lets go...."
   ]
  },
  {
   "cell_type": "code",
   "execution_count": 1,
   "metadata": {},
   "outputs": [
    {
     "name": "stderr",
     "output_type": "stream",
     "text": [
      "2019-04-17 20:55:19,043 - vs2lab.a1_layers.auskunft_schnittstelle.Schnittstelle - INFO - \n",
      "Client connected to socket <socket.socket fd=58, family=AddressFamily.AF_INET, type=SocketKind.SOCK_STREAM, proto=0, laddr=('127.0.0.1', 51692), raddr=('127.0.0.1', 50029)>\n",
      "\n"
     ]
    },
    {
     "name": "stdout",
     "output_type": "stream",
     "text": [
      "choose Operation: getall\n"
     ]
    },
    {
     "name": "stderr",
     "output_type": "stream",
     "text": [
      "2019-04-17 20:55:22,062 - vs2lab.a1_layers.auskunft_schnittstelle.Schnittstelle - INFO - \n",
      "Client sends getall over Socket <socket.socket fd=58, family=AddressFamily.AF_INET, type=SocketKind.SOCK_STREAM, proto=0, laddr=('127.0.0.1', 51692), raddr=('127.0.0.1', 50029)>\n",
      "\n",
      "2019-04-17 20:55:22,063 - vs2lab.a1_layers.auskunft_schnittstelle.Schnittstelle - INFO - \n",
      "Answer is {'Tim': 1111, 'Stefan': 2222, 'Lisa': 3333}\n",
      "\n"
     ]
    },
    {
     "name": "stdout",
     "output_type": "stream",
     "text": [
      "{'Tim': 1111, 'Stefan': 2222, 'Lisa': 3333}\n",
      "choose Operation: get Lisa\n"
     ]
    },
    {
     "name": "stderr",
     "output_type": "stream",
     "text": [
      "2019-04-17 20:55:24,563 - vs2lab.a1_layers.auskunft_schnittstelle.Schnittstelle - INFO - \n",
      "Client sends Lisa over Socket <socket.socket fd=58, family=AddressFamily.AF_INET, type=SocketKind.SOCK_STREAM, proto=0, laddr=('127.0.0.1', 51692), raddr=('127.0.0.1', 50029)>\n",
      "\n",
      "2019-04-17 20:55:24,565 - vs2lab.a1_layers.auskunft_schnittstelle.Schnittstelle - INFO - \n",
      "Answer is 3333\n",
      "\n"
     ]
    },
    {
     "name": "stdout",
     "output_type": "stream",
     "text": [
      "3333\n",
      "choose Operation: get asdasdasa\n"
     ]
    },
    {
     "name": "stderr",
     "output_type": "stream",
     "text": [
      "2019-04-17 20:55:27,761 - vs2lab.a1_layers.auskunft_schnittstelle.Schnittstelle - INFO - \n",
      "Client sends asdasdasa over Socket <socket.socket fd=58, family=AddressFamily.AF_INET, type=SocketKind.SOCK_STREAM, proto=0, laddr=('127.0.0.1', 51692), raddr=('127.0.0.1', 50029)>\n",
      "\n",
      "2019-04-17 20:55:27,762 - vs2lab.a1_layers.auskunft_schnittstelle.Schnittstelle - INFO - \n",
      "Answer is No entry found!\n",
      "\n",
      "2019-04-17 20:55:27,763 - vs2lab.a1_layers.auskunft_schnittstelle.Schnittstelle - INFO - \n",
      "Client down.\n",
      "\n"
     ]
    },
    {
     "name": "stdout",
     "output_type": "stream",
     "text": [
      "No entry found!\n"
     ]
    }
   ],
   "source": [
    "import auskunft_schnittstelle # import from our script\n",
    "\n",
    "schnittstelle = auskunft_schnittstelle.Schnittstelle() # Create a client instance\n",
    "\n",
    "schnittstelle.call() # start the call and print echo\n",
    "schnittstelle.call() # start the call and print echo\n",
    "schnittstelle.call() # start the call and print echo\n",
    "\n",
    "schnittstelle.close()"
   ]
  },
  {
   "cell_type": "markdown",
   "metadata": {},
   "source": [
    "Finished."
   ]
  }
 ],
 "metadata": {
  "kernelspec": {
   "display_name": "Python 3",
   "language": "python",
   "name": "python3"
  },
  "language_info": {
   "codemirror_mode": {
    "name": "ipython",
    "version": 3
   },
   "file_extension": ".py",
   "mimetype": "text/x-python",
   "name": "python",
   "nbconvert_exporter": "python",
   "pygments_lexer": "ipython3",
   "version": "3.6.7"
  },
  "widgets": {
   "application/vnd.jupyter.widget-state+json": {
    "state": {},
    "version_major": 2,
    "version_minor": 0
   }
  }
 },
 "nbformat": 4,
 "nbformat_minor": 2
}
